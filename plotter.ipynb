{
 "cells": [
  {
   "cell_type": "code",
   "execution_count": 56,
   "metadata": {},
   "outputs": [],
   "source": [
    "import pandas as pd\n",
    "import seaborn as sns\n",
    "\n",
    "from os.path import join\n",
    "from matplotlib import pyplot as plt"
   ]
  },
  {
   "cell_type": "code",
   "execution_count": 66,
   "metadata": {},
   "outputs": [],
   "source": [
    "def get_stat(stat_file, stat_name):\n",
    "    stat_file.seek(0)\n",
    "    ret = 0\n",
    "    for line in stat_file.readlines():\n",
    "        if stat_name in line:\n",
    "            val_str = line.split()[1]\n",
    "            if val_str != \"nan\":\n",
    "                ret += float(val_str)\n",
    "    return ret"
   ]
  },
  {
   "cell_type": "code",
   "execution_count": 67,
   "metadata": {},
   "outputs": [],
   "source": [
    "cache_classes = [\"NoCache\", \"MESITwoLevel\"]\n",
    "generators = [\"LinearGenerator\", \"RandomGenerator\"]\n",
    "memory_classes = [\"SingleChannelDDR3_1600\", \"SingleChannelDDR4_2400\", \"SingleChannelHBM\"]\n",
    "results_dir = \"results\""
   ]
  },
  {
   "cell_type": "code",
   "execution_count": 73,
   "metadata": {},
   "outputs": [],
   "source": [
    "stats = [\"readBW\", \"avgReadLatency\"]\n",
    "\n",
    "rows = []\n",
    "for cache in cache_classes:\n",
    "    for generator in generators:\n",
    "        for memory in memory_classes:\n",
    "            file_name = join(results_dir, cache, generator, memory, \"stats.txt\")\n",
    "            row = [cache, generator, memory]\n",
    "            with open(file_name, \"r\") as stat_file:\n",
    "                for stat in stats:\n",
    "                    val = get_stat(stat_file, stat)\n",
    "                    row.append(val)\n",
    "            rows.append(row)\n",
    "\n",
    "data = pd.DataFrame(rows, columns = [\"Cache\", \"Generator\", \"Memory\"] + stats)\n",
    "data[\"readBW\"] = data[\"readBW\"] / 1073741824\n",
    "data[\"avgReadLatency\"] = data[\"avgReadLatency\"] / 1000"
   ]
  },
  {
   "cell_type": "code",
   "execution_count": 74,
   "metadata": {},
   "outputs": [
    {
     "data": {
      "text/html": [
       "<div>\n",
       "<style scoped>\n",
       "    .dataframe tbody tr th:only-of-type {\n",
       "        vertical-align: middle;\n",
       "    }\n",
       "\n",
       "    .dataframe tbody tr th {\n",
       "        vertical-align: top;\n",
       "    }\n",
       "\n",
       "    .dataframe thead th {\n",
       "        text-align: right;\n",
       "    }\n",
       "</style>\n",
       "<table border=\"1\" class=\"dataframe\">\n",
       "  <thead>\n",
       "    <tr style=\"text-align: right;\">\n",
       "      <th></th>\n",
       "      <th>Cache</th>\n",
       "      <th>Generator</th>\n",
       "      <th>Memory</th>\n",
       "      <th>readBW</th>\n",
       "      <th>avgReadLatency</th>\n",
       "    </tr>\n",
       "  </thead>\n",
       "  <tbody>\n",
       "    <tr>\n",
       "      <th>0</th>\n",
       "      <td>NoCache</td>\n",
       "      <td>LinearGenerator</td>\n",
       "      <td>SingleChannelDDR3_1600</td>\n",
       "      <td>9.178019</td>\n",
       "      <td>236.764906</td>\n",
       "    </tr>\n",
       "    <tr>\n",
       "      <th>1</th>\n",
       "      <td>NoCache</td>\n",
       "      <td>LinearGenerator</td>\n",
       "      <td>SingleChannelDDR4_2400</td>\n",
       "      <td>12.917564</td>\n",
       "      <td>322.560948</td>\n",
       "    </tr>\n",
       "    <tr>\n",
       "      <th>2</th>\n",
       "      <td>NoCache</td>\n",
       "      <td>LinearGenerator</td>\n",
       "      <td>SingleChannelHBM</td>\n",
       "      <td>13.934048</td>\n",
       "      <td>163.636866</td>\n",
       "    </tr>\n",
       "    <tr>\n",
       "      <th>3</th>\n",
       "      <td>NoCache</td>\n",
       "      <td>RandomGenerator</td>\n",
       "      <td>SingleChannelDDR3_1600</td>\n",
       "      <td>11.477635</td>\n",
       "      <td>193.837147</td>\n",
       "    </tr>\n",
       "    <tr>\n",
       "      <th>4</th>\n",
       "      <td>NoCache</td>\n",
       "      <td>RandomGenerator</td>\n",
       "      <td>SingleChannelDDR4_2400</td>\n",
       "      <td>16.986957</td>\n",
       "      <td>250.665499</td>\n",
       "    </tr>\n",
       "  </tbody>\n",
       "</table>\n",
       "</div>"
      ],
      "text/plain": [
       "     Cache        Generator                  Memory     readBW  avgReadLatency\n",
       "0  NoCache  LinearGenerator  SingleChannelDDR3_1600   9.178019      236.764906\n",
       "1  NoCache  LinearGenerator  SingleChannelDDR4_2400  12.917564      322.560948\n",
       "2  NoCache  LinearGenerator        SingleChannelHBM  13.934048      163.636866\n",
       "3  NoCache  RandomGenerator  SingleChannelDDR3_1600  11.477635      193.837147\n",
       "4  NoCache  RandomGenerator  SingleChannelDDR4_2400  16.986957      250.665499"
      ]
     },
     "execution_count": 74,
     "metadata": {},
     "output_type": "execute_result"
    }
   ],
   "source": [
    "data.head()"
   ]
  },
  {
   "cell_type": "code",
   "execution_count": 77,
   "metadata": {
    "scrolled": false
   },
   "outputs": [
    {
     "data": {
      "image/png": "[encoded data removed]",
      "text/plain": [
       "<Figure size 1008x599.04 with 1 Axes>"
      ]
     },
     "metadata": {
      "needs_background": "light"
     },
     "output_type": "display_data"
    }
   ],
   "source": [
    "local_data = data[(data[\"Generator\"] == \"LinearGenerator\")]\n",
    "plt.figure(figsize = (14, 8.32))\n",
    "ax = sns.barplot(x = \"Memory\", y = \"readBW\", hue = \"Cache\", data = local_data)\n",
    "ax.get_figure().savefig(\"BWLinear.png\")"
   ]
  },
  {
   "cell_type": "code",
   "execution_count": 78,
   "metadata": {},
   "outputs": [
    {
     "data": {
      "image/png": "[encoded data removed]",
      "text/plain": [
       "<Figure size 1008x599.04 with 1 Axes>"
      ]
     },
     "metadata": {
      "needs_background": "light"
     },
     "output_type": "display_data"
    }
   ],
   "source": [
    "local_data = data[(data[\"Generator\"] == \"LinearGenerator\")]\n",
    "plt.figure(figsize = (14, 8.32))\n",
    "ax = sns.barplot(x = \"Memory\", y = \"avgReadLatency\", hue = \"Cache\", data = local_data)\n",
    "ax.get_figure().savefig(\"LatLinear.png\")"
   ]
  },
  {
   "cell_type": "code",
   "execution_count": null,
   "metadata": {},
   "outputs": [],
   "source": []
  }
 ],
 "metadata": {
  "kernelspec": {
   "display_name": "Python 3",
   "language": "python",
   "name": "python3"
  },
  "language_info": {
   "codemirror_mode": {
    "name": "ipython",
    "version": 3
   },
   "file_extension": ".py",
   "mimetype": "text/x-python",
   "name": "python",
   "nbconvert_exporter": "python",
   "pygments_lexer": "ipython3",
   "version": "3.8.10"
  }
 },
 "nbformat": 4,
 "nbformat_minor": 4
}
